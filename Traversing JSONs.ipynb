{
 "cells": [
  {
   "cell_type": "code",
   "execution_count": 1,
   "id": "0d4a1b44",
   "metadata": {},
   "outputs": [],
   "source": [
    "import requests\n",
    "from config import weather_api_key"
   ]
  },
  {
   "cell_type": "code",
   "execution_count": 2,
   "id": "935d3a52",
   "metadata": {},
   "outputs": [],
   "source": [
    "url = 'http://api.openweathermap.org/data/2.5/weather?'\n",
    "city = 'London'"
   ]
  },
  {
   "cell_type": "code",
   "execution_count": 3,
   "id": "4ee5b51e",
   "metadata": {},
   "outputs": [],
   "source": [
    "query_url = url + 'appid=' + weather_api_key + '&q=' + city"
   ]
  },
  {
   "cell_type": "code",
   "execution_count": 4,
   "id": "370fe079",
   "metadata": {},
   "outputs": [],
   "source": [
    "weather_response = requests.get(query_url)\n",
    "weather_json = weather_response.json()"
   ]
  },
  {
   "cell_type": "code",
   "execution_count": 6,
   "id": "2e5a150a",
   "metadata": {},
   "outputs": [
    {
     "data": {
      "text/plain": [
       "dict_keys(['coord', 'weather', 'base', 'main', 'visibility', 'wind', 'clouds', 'dt', 'sys', 'timezone', 'id', 'name', 'cod'])"
      ]
     },
     "execution_count": 6,
     "metadata": {},
     "output_type": "execute_result"
    }
   ],
   "source": [
    "# Identify only the keys of first-level subdictionaries in the json dictionary\n",
    "weather_json.keys()"
   ]
  },
  {
   "cell_type": "code",
   "execution_count": 7,
   "id": "bc6137e8",
   "metadata": {},
   "outputs": [
    {
     "data": {
      "text/plain": [
       "{'temp': 292.74,\n",
       " 'feels_like': 292.4,\n",
       " 'temp_min': 290.85,\n",
       " 'temp_max': 294.25,\n",
       " 'pressure': 1005,\n",
       " 'humidity': 63}"
      ]
     },
     "execution_count": 7,
     "metadata": {},
     "output_type": "execute_result"
    }
   ],
   "source": [
    "# Get the 'main' subdictionary from the json dictionary\n",
    "weather_json.get('main')"
   ]
  }
 ],
 "metadata": {
  "kernelspec": {
   "display_name": "PythonData",
   "language": "python",
   "name": "pythondata"
  },
  "language_info": {
   "codemirror_mode": {
    "name": "ipython",
    "version": 3
   },
   "file_extension": ".py",
   "mimetype": "text/x-python",
   "name": "python",
   "nbconvert_exporter": "python",
   "pygments_lexer": "ipython3",
   "version": "3.7.13"
  }
 },
 "nbformat": 4,
 "nbformat_minor": 5
}
