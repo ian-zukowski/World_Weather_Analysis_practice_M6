{
 "cells": [
  {
   "cell_type": "code",
   "execution_count": 1,
   "id": "fb4bbd6c",
   "metadata": {},
   "outputs": [],
   "source": [
    "# Import the random module.\n",
    "import random"
   ]
  },
  {
   "cell_type": "code",
   "execution_count": 7,
   "id": "cb4f4fa9",
   "metadata": {},
   "outputs": [
    {
     "data": {
      "text/plain": [
       "-46"
      ]
     },
     "execution_count": 7,
     "metadata": {},
     "output_type": "execute_result"
    }
   ],
   "source": [
    "random.randint(-90, 90)"
   ]
  },
  {
   "cell_type": "code",
   "execution_count": 14,
   "id": "7af2cea4",
   "metadata": {},
   "outputs": [
    {
     "data": {
      "text/plain": [
       "0.9201152121002131"
      ]
     },
     "execution_count": 14,
     "metadata": {},
     "output_type": "execute_result"
    }
   ],
   "source": [
    "random.random()"
   ]
  },
  {
   "cell_type": "code",
   "execution_count": 27,
   "id": "9dff0f52",
   "metadata": {},
   "outputs": [
    {
     "data": {
      "text/plain": [
       "-57.25218806624656"
      ]
     },
     "execution_count": 27,
     "metadata": {},
     "output_type": "execute_result"
    }
   ],
   "source": [
    "random_number=random.randint(-90,89)+random.random()\n",
    "random_number"
   ]
  },
  {
   "cell_type": "code",
   "execution_count": 39,
   "id": "877b1c31",
   "metadata": {},
   "outputs": [
    {
     "data": {
      "text/plain": [
       "[15.17887674092695,\n",
       " -7.127123158522354,\n",
       " 56.71726204560671,\n",
       " -42.84683174191378,\n",
       " 5.567285994111992,\n",
       " 9.389603239249261,\n",
       " -27.894422768625464,\n",
       " -35.43067716590032,\n",
       " -77.68890635724853,\n",
       " -81.35803899338933]"
      ]
     },
     "execution_count": 39,
     "metadata": {},
     "output_type": "execute_result"
    }
   ],
   "source": [
    "# Generate 10 random latitude values between -90 and 89.99999999\n",
    "x=1\n",
    "latitudes = []\n",
    "while x<11:\n",
    "    random_late=random.randint(-90,89)+random.random()\n",
    "    latitudes.append(random_late)\n",
    "    x+=1\n",
    "\n",
    "latitudes"
   ]
  },
  {
   "cell_type": "code",
   "execution_count": 64,
   "id": "224bb0a0",
   "metadata": {},
   "outputs": [
    {
     "data": {
      "text/plain": [
       "-54"
      ]
     },
     "execution_count": 64,
     "metadata": {},
     "output_type": "execute_result"
    }
   ],
   "source": [
    "# Random integer multiple of 9\n",
    "random.randrange(-90,90,step=9)"
   ]
  },
  {
   "cell_type": "code",
   "execution_count": 73,
   "id": "580f46f0",
   "metadata": {},
   "outputs": [
    {
     "data": {
      "text/plain": [
       "30.774397656203988"
      ]
     },
     "execution_count": 73,
     "metadata": {},
     "output_type": "execute_result"
    }
   ],
   "source": [
    "random.uniform(-90,90)"
   ]
  },
  {
   "cell_type": "code",
   "execution_count": 74,
   "id": "b1a2f6a6",
   "metadata": {},
   "outputs": [],
   "source": [
    "# Import the NumPy module.\n",
    "import numpy as np"
   ]
  },
  {
   "cell_type": "code",
   "execution_count": 77,
   "id": "b13434e6",
   "metadata": {},
   "outputs": [
    {
     "data": {
      "text/plain": [
       "89.69540807524254"
      ]
     },
     "execution_count": 77,
     "metadata": {},
     "output_type": "execute_result"
    }
   ],
   "source": [
    "np.random.uniform(-90,90)\n",
    "\n",
    "# np.random.uniform(low=-90,high=90)"
   ]
  },
  {
   "cell_type": "code",
   "execution_count": 79,
   "id": "05eaba2f",
   "metadata": {},
   "outputs": [
    {
     "data": {
      "text/plain": [
       "array([-66.89449257,   7.62901318, -16.85903708, ..., -19.91744568,\n",
       "        50.42928607, -14.81299718])"
      ]
     },
     "execution_count": 79,
     "metadata": {},
     "output_type": "execute_result"
    }
   ],
   "source": [
    "np.random.uniform(-90,90,size=1500)"
   ]
  },
  {
   "cell_type": "code",
   "execution_count": 80,
   "id": "86167c1f",
   "metadata": {},
   "outputs": [],
   "source": [
    "# Import timeit.\n",
    "import timeit"
   ]
  },
  {
   "cell_type": "code",
   "execution_count": 84,
   "id": "7b1d93f3",
   "metadata": {},
   "outputs": [
    {
     "name": "stdout",
     "output_type": "stream",
     "text": [
      "15 µs ± 674 ns per loop (mean ± std. dev. of 7 runs, 100000 loops each)\n"
     ]
    }
   ],
   "source": [
    "%timeit np.random.uniform(-90,90,size=1500)"
   ]
  },
  {
   "cell_type": "code",
   "execution_count": 85,
   "id": "40eb6d51",
   "metadata": {},
   "outputs": [
    {
     "name": "stdout",
     "output_type": "stream",
     "text": [
      "1.87 ms ± 30.4 µs per loop (mean ± std. dev. of 7 runs, 1000 loops each)\n"
     ]
    }
   ],
   "source": [
    "def latitudes(size):\n",
    "    latitudes=[]\n",
    "    x=0\n",
    "    while x < (size):\n",
    "        random_lat=random.randint(-90,90)+random.random()\n",
    "        latitudes.append(random_lat)\n",
    "        x += 1\n",
    "    return latitudes\n",
    "\n",
    "# Call the function with 1500\n",
    "%timeit latitudes(1500)"
   ]
  }
 ],
 "metadata": {
  "kernelspec": {
   "display_name": "PythonData",
   "language": "python",
   "name": "pythondata"
  },
  "language_info": {
   "codemirror_mode": {
    "name": "ipython",
    "version": 3
   },
   "file_extension": ".py",
   "mimetype": "text/x-python",
   "name": "python",
   "nbconvert_exporter": "python",
   "pygments_lexer": "ipython3",
   "version": "3.7.13"
  }
 },
 "nbformat": 4,
 "nbformat_minor": 5
}
